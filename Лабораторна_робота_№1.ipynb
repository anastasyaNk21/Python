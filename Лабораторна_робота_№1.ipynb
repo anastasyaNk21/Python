{
  "nbformat": 4,
  "nbformat_minor": 0,
  "metadata": {
    "colab": {
      "provenance": [],
      "collapsed_sections": [],
      "authorship_tag": "ABX9TyOBuUYluldzLCZnzDiVwrQQ",
      "include_colab_link": true
    },
    "kernelspec": {
      "name": "python3",
      "display_name": "Python 3"
    },
    "language_info": {
      "name": "python"
    }
  },
  "cells": [
    {
      "cell_type": "markdown",
      "metadata": {
        "id": "view-in-github",
        "colab_type": "text"
      },
      "source": [
        "<a href=\"https://colab.research.google.com/github/anastasyaNk21/Python/blob/main/%D0%9B%D0%B0%D0%B1%D0%BE%D1%80%D0%B0%D1%82%D0%BE%D1%80%D0%BD%D0%B0_%D1%80%D0%BE%D0%B1%D0%BE%D1%82%D0%B0_%E2%84%961.ipynb\" target=\"_parent\"><img src=\"https://colab.research.google.com/assets/colab-badge.svg\" alt=\"Open In Colab\"/></a>"
      ]
    },
    {
      "cell_type": "markdown",
      "source": [
        "Завдання №1"
      ],
      "metadata": {
        "id": "HC9Qn8zyxMtr"
      }
    },
    {
      "cell_type": "code",
      "execution_count": null,
      "metadata": {
        "colab": {
          "base_uri": "https://localhost:8080/"
        },
        "id": "hWWUXxCDxC1k",
        "outputId": "bbab36eb-75ef-4420-d87b-814183d6f287"
      },
      "outputs": [
        {
          "name": "stdout",
          "output_type": "stream",
          "text": [
            "a = 4\n",
            "b = 1.25\n",
            "c = 10\n",
            "d = 0.2\n"
          ]
        }
      ],
      "source": [
        "a = float(input(\"a = \"))\n",
        "b = float(input(\"b = \"))\n",
        "c = float(input(\"c = \"))\n",
        "d = float(input(\"d = \"))"
      ]
    },
    {
      "cell_type": "markdown",
      "source": [
        "Завдання №2"
      ],
      "metadata": {
        "id": "o9sxVOh01ZTk"
      }
    },
    {
      "cell_type": "code",
      "source": [
        "num = float(input(\"Dведіть число для операцій: \"))\n",
        "\n",
        "print(\"Додавання number до числа:\")\n",
        "print(\"a:\", a, \"+\", num, \"=\", a + num)\n",
        "print(\"b:\", b, \"+\", num, \"=\", b + num)\n",
        "print(\"c:\", c, \"+\", num, \"=\", c + num)\n",
        "print(\"d:\", d, \"+\", num, \"=\", d + num)\n",
        "\n",
        "print(\"\\nВіднімання number від числа:\")\n",
        "print(\"a:\", a, \"-\", num, \"=\", a - num)\n",
        "print(\"b:\", b, \"-\", num, \"=\", b - num)\n",
        "print(\"c:\" , c, \"-\", num, \"=\", c - num)\n",
        "print(\"d:\", d, \"-\", num, \"=\", d - num)\n",
        "\n",
        "print(\"\\nМноження number на число:\")\n",
        "print(\"a:\", a, \"*\", num, \"=\", a * num)\n",
        "print(\"b:\", b, \"*\", num, \"=\", b * num)\n",
        "print(\"c:\", c, \"*\", num, \"=\", c * num)\n",
        "print(\"d:\", d, \"*\", num, \"=\", d * num)\n",
        "\n",
        "print(\"\\nДілення числа на number:\")\n",
        "print(\"a:\", a, \"/\", num, \"=\", a / num)\n",
        "print(\"b:\", b, \"/\", num, \"=\", b / num)\n",
        "print(\"c:\", c, \"/\", num, \"=\", c / num)\n",
        "print(\"d:\", d, \"/\", num, \"=\", d / num)\n",
        "\n",
        "print(\"\\nПіднесення числа до степеня number:\")\n",
        "print(\"a:\", a, \"^\", num, \"=\", a ** num)\n",
        "print(\"b:\", b, \"^\", num, \"=\", b ** num)\n",
        "print(\"c:\", c, \"^\", num, \"=\", c ** num)\n",
        "print(\"d:\", d, \"^\", num, \"=\", d ** num)\n",
        "\n",
        "print(\"\\nЦілочисельне ділення числа на number:\")\n",
        "print(\"a:\", a, \"//\", num, \"=\", a // num)\n",
        "print(\"b:\", b, \"//\", num, \"=\", b // num)\n",
        "print(\"c:\", c, \"//\", num, \"=\", c // num)\n",
        "print(\"d:\", d, \"//\", num, \"=\", d // num)\n",
        "\n",
        "print(\"\\nОстача від ділення 2-ох чисел:\")\n",
        "print(\"a:\", a, \"mod\", num, \"=\", a % num)\n",
        "print(\"b:\", b, \"mod\", num, \"=\", b % num)\n",
        "print(\"c:\", c, \"mod\", num, \"=\", c % num)\n",
        "print(\"d:\", d, \"mod\", num, \"=\", d % num)"
      ],
      "metadata": {
        "colab": {
          "base_uri": "https://localhost:8080/"
        },
        "id": "tsim8paB1ZnT",
        "outputId": "67ae6df7-3c4f-4c4e-b04b-39be05d57c6a"
      },
      "execution_count": null,
      "outputs": [
        {
          "output_type": "stream",
          "name": "stdout",
          "text": [
            "Dведіть число для операцій: 3\n",
            "Додавання number до числа:\n",
            "a: 4.0 + 3.0 = 7.0\n",
            "b: 1.25 + 3.0 = 4.25\n",
            "c: 10.0 + 3.0 = 13.0\n",
            "d: 0.2 + 3.0 = 3.2\n",
            "\n",
            "Віднімання number від числа:\n",
            "a: 4.0 - 3.0 = 1.0\n",
            "b: 1.25 - 3.0 = -1.75\n",
            "c: 10.0 - 3.0 = 7.0\n",
            "d: 0.2 - 3.0 = -2.8\n",
            "\n",
            "Множення number на число:\n",
            "a: 4.0 * 3.0 = 12.0\n",
            "b: 1.25 * 3.0 = 3.75\n",
            "c: 10.0 * 3.0 = 30.0\n",
            "d: 0.2 * 3.0 = 0.6000000000000001\n",
            "\n",
            "Ділення числа на number:\n",
            "a: 4.0 / 3.0 = 1.3333333333333333\n",
            "b: 1.25 / 3.0 = 0.4166666666666667\n",
            "c: 10.0 / 3.0 = 3.3333333333333335\n",
            "d: 0.2 / 3.0 = 0.06666666666666667\n",
            "\n",
            "Піднесення числа до степеня number:\n",
            "a: 4.0 ^ 3.0 = 64.0\n",
            "b: 1.25 ^ 3.0 = 1.953125\n",
            "c: 10.0 ^ 3.0 = 1000.0\n",
            "d: 0.2 ^ 3.0 = 0.008000000000000002\n",
            "\n",
            "Цілочисельне ділення числа на number:\n",
            "a: 4.0 // 3.0 = 1.0\n",
            "b: 1.25 // 3.0 = 0.0\n",
            "c: 10.0 // 3.0 = 3.0\n",
            "d: 0.2 // 3.0 = 0.0\n",
            "\n",
            "Остача від ділення 2-ох чисел:\n",
            "a: 4.0 mod 3.0 = 1.0\n",
            "b: 1.25 mod 3.0 = 1.25\n",
            "c: 10.0 mod 3.0 = 1.0\n",
            "d: 0.2 mod 3.0 = 0.2\n"
          ]
        }
      ]
    },
    {
      "cell_type": "markdown",
      "source": [
        "Завдання №3\n",
        "![зображення.png](data:image/png;base64,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)"
      ],
      "metadata": {
        "id": "nnzIFWeN1lH6"
      }
    },
    {
      "cell_type": "code",
      "source": [
        "import math as m\n",
        "\n",
        "x = float(input(\"Введіть значення x: \"))\n",
        "y = (m.exp(-x) - 4*x - m.pow(m.log(x), 3))/(m.log10(m.fabs(x + 1)) + 1 / m.tan((m.pow(x, 2) - 1)))\n",
        "\n",
        "print(\"y = \", y)"
      ],
      "metadata": {
        "colab": {
          "base_uri": "https://localhost:8080/"
        },
        "id": "LRfO-PQ61ozC",
        "outputId": "7366a3a2-25d5-4962-9183-b84920c27261"
      },
      "execution_count": null,
      "outputs": [
        {
          "output_type": "stream",
          "name": "stdout",
          "text": [
            "Введіть значення x: 4\n",
            "y =  39.73436989730057\n"
          ]
        }
      ]
    },
    {
      "cell_type": "markdown",
      "source": [
        "Завдання №88\n",
        "Напишіть програму для розрахунку суми цифр у 4-цифровому цілому числі, яке вводиться користувачем"
      ],
      "metadata": {
        "id": "iZy2cZJ11-5n"
      }
    },
    {
      "cell_type": "code",
      "source": [
        "#спосіб 1\n",
        "a = input(\"Введіть 4-значне число: \")\n",
        "print(\"Результат: \", int(a[0]) + int(a[1]) + int(a[2]) + int(a[3]))\n",
        "\n",
        "#спосіб 2\n",
        "a = int(input(\"Введіть 4-значне число: \"))\n",
        "tmp_a = a\n",
        "sum = 0\n",
        "\n",
        "sum += tmp_a % 10;\n",
        "tmp_a //= 10\n",
        "\n",
        "sum += tmp_a % 10;\n",
        "tmp_a //= 10\n",
        "\n",
        "sum += tmp_a % 10;\n",
        "tmp_a //= 10\n",
        "\n",
        "sum += tmp_a % 10;\n",
        "tmp_a //= 10\n",
        "\n",
        "print(\"Результат: \", sum)"
      ],
      "metadata": {
        "colab": {
          "base_uri": "https://localhost:8080/"
        },
        "id": "v8UXqXjp2C_H",
        "outputId": "b90ae3c0-2231-469d-c0da-ba0bb1be0deb"
      },
      "execution_count": null,
      "outputs": [
        {
          "output_type": "stream",
          "name": "stdout",
          "text": [
            "Введіть 4-значне число: 1253\n",
            "Результат:  11\n",
            "Введіть 4-значне число: 9568\n",
            "Результат:  28\n"
          ]
        }
      ]
    },
    {
      "cell_type": "markdown",
      "source": [
        "Завдання №89\n",
        "Напишіть програму для сортування трьох цілих чисел без використання умовних виразів і циклів."
      ],
      "metadata": {
        "id": "3cd52rlf2bdd"
      }
    },
    {
      "cell_type": "code",
      "source": [
        "a = int(input(\"a = \"))\n",
        "b = int(input(\"b = \"))\n",
        "c = int(input(\"c = \"))\n",
        "\n",
        "max_n = max(a, b, c)\n",
        "min_n = min(a, b, c)\n",
        "mid_n = a + b + c - min_n - max_n\n",
        "print(min_n, mid_n, max_n)"
      ],
      "metadata": {
        "colab": {
          "base_uri": "https://localhost:8080/"
        },
        "id": "8ifzmibu2gD2",
        "outputId": "82d33ce3-c5fc-4ca1-c069-935f6dd7f891"
      },
      "execution_count": null,
      "outputs": [
        {
          "output_type": "stream",
          "name": "stdout",
          "text": [
            "a = 2\n",
            "b = 3\n",
            "c = 0\n",
            "0 2 3\n"
          ]
        }
      ]
    },
    {
      "cell_type": "markdown",
      "source": [
        "Завдання №90\n",
        "Необхідно перевезти n книг. Для транспортування можна використовувати коробки, які вміщають m книг кожна. Порахуйте, яку кількість коробок необхідно використати для перевезення всіх книг за один раз. Користувачем вводиться два цілих числа n і m, а програма виводить одне ціле число - мінімальну кількість коробок."
      ],
      "metadata": {
        "id": "6xbrOiCl2nKp"
      }
    },
    {
      "cell_type": "code",
      "source": [
        "books = int(input(\"Кількість книг: \"))\n",
        "box_size = int(input(\"Розмірність коробки: \"))\n",
        "\n",
        "#спосіб 1\n",
        "print(\"Потрібно коробок:\", books // box_size + (books % box_size > 0))\n",
        "\n",
        "#спосіб 2\n",
        "#import math as m\n",
        "print(\"Потрібно коробок:\", m.ceil(books / box_size))"
      ],
      "metadata": {
        "colab": {
          "base_uri": "https://localhost:8080/"
        },
        "id": "r4YZZ4WK2lZU",
        "outputId": "4c4bcb32-f199-448b-87d5-8a5236cea6a4"
      },
      "execution_count": null,
      "outputs": [
        {
          "output_type": "stream",
          "name": "stdout",
          "text": [
            "Кількість книг: 50\n",
            "Розмірність коробки: 20\n",
            "Потрібно коробок: 3\n",
            "Потрібно коробок: 3\n"
          ]
        }
      ]
    },
    {
      "cell_type": "markdown",
      "source": [
        "Завдання №91.\tНапишіть програму, яка по даному числу n від 1 до 9 виводить на екран n пінгвінів. Зображення одного пінгвіна має розмір 5 × 9 символів, між двома сусідніми пінгвінами також є порожній (з пропусків) стовпець. Дозволяється вивести порожній стовпець після останнього пінгвіна. Для спрощення малювання скопіюйте пінгвіна з прикладу в середовище розробки."
      ],
      "metadata": {
        "id": "hQJylg2H3Z-r"
      }
    },
    {
      "cell_type": "code",
      "source": [
        "n = int(input(\"Введіть кількість пінгвінів: \"))\n",
        "\n",
        "print(\"   _~_    \" * n)\n",
        "print(\"  (o o)   \" * n)\n",
        "print(\" /  V  \\  \" * n)\n",
        "print(\"/(  _  )\\ \" * n)\n",
        "print(\"  ^^ ^^   \" * n)"
      ],
      "metadata": {
        "colab": {
          "base_uri": "https://localhost:8080/"
        },
        "id": "nsfbyxVh3dQP",
        "outputId": "de5ec744-08d9-4707-a93c-b03400561355"
      },
      "execution_count": null,
      "outputs": [
        {
          "output_type": "stream",
          "name": "stdout",
          "text": [
            "Введіть кількість пінгвінів: 4\n",
            "   _~_       _~_       _~_       _~_    \n",
            "  (o o)     (o o)     (o o)     (o o)   \n",
            " /  V  \\   /  V  \\   /  V  \\   /  V  \\  \n",
            "/(  _  )\\ /(  _  )\\ /(  _  )\\ /(  _  )\\ \n",
            "  ^^ ^^     ^^ ^^     ^^ ^^     ^^ ^^   \n"
          ]
        }
      ]
    },
    {
      "cell_type": "markdown",
      "source": [
        "Завдання №92. \n",
        "В деякій школі заняття починаються о 9:00. Тривалість уроку - 45 хвилин, після 1-го, 3-го, 5-го і т. д. уроків перерва 5 хвилин, а після 2-го, 4-го, 6-го і т. д. - 15 хвилин. Вводиться номер уроку (число від 1 до 10). Визначте, коли закінчується зазначений урок, а саме, виведіть два цілих числа: час закінчення уроку в годинах і хвилинах."
      ],
      "metadata": {
        "id": "FY-nGu8R3lZO"
      }
    },
    {
      "cell_type": "code",
      "source": [
        "n = int(input(\"Введіть кількість уроків: \"))\n",
        "\n",
        "minutes = 45 * n + 5 * (n//2) + 15 * ((n-1)//2)\n",
        "\n",
        "hours = minutes // 60\n",
        "minutes -= hours * 60\n",
        "\n",
        "print(\"Уроки завершуться о:\", hours + 9, \":\", minutes)"
      ],
      "metadata": {
        "id": "sPq9qxmQ3zoo"
      },
      "execution_count": null,
      "outputs": []
    }
  ]
}